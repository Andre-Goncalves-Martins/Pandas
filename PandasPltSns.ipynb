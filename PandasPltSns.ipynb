{
  "nbformat": 4,
  "nbformat_minor": 0,
  "metadata": {
    "colab": {
      "name": "PandasPltSns.ipynb",
      "provenance": []
    },
    "kernelspec": {
      "name": "python3",
      "display_name": "Python 3"
    },
    "language_info": {
      "name": "python"
    }
  },
  "cells": [
    {
      "cell_type": "markdown",
      "metadata": {
        "id": "DiJ_ToA6rBH5"
      },
      "source": [
        "# Nesse notebook são demonstrados diversos comandos para as bibliotecas: Pandas, Matplotlib e Seaborn"
      ]
    },
    {
      "cell_type": "markdown",
      "metadata": {
        "id": "D_u157WDvLDm"
      },
      "source": [
        "## Importações e definindo um data frame"
      ]
    },
    {
      "cell_type": "code",
      "metadata": {
        "id": "nCirCZYrrarY"
      },
      "source": [
        "import pandas as pd\n",
        "import matplotlib.pyplot as plt\n",
        "import numpy as np\n",
        "import seaborn as sns\n",
        "\n",
        "##Funções de Importação do Excel/Python ###\n",
        "#   pd.read_csv (or) pd.read_excel"
      ],
      "execution_count": 227,
      "outputs": []
    },
    {
      "cell_type": "code",
      "metadata": {
        "id": "cw6GIlIYuV_q"
      },
      "source": [
        "preco = pd.DataFrame({'Produto': ['Lápis', 'Caneta', 'Borracha', 'Grampeador', 'Apontador'],\n",
        "                      'Preço': [2.1, 7.3, 5.4, 10.9, 6],\n",
        "                      'Qtde': [10, 15, 3, 2, 20],\n",
        "                      'Custo': [0.5, 1.3, 0.7, 2, 2]})\n",
        "preco"
      ],
      "execution_count": null,
      "outputs": []
    },
    {
      "cell_type": "markdown",
      "metadata": {
        "id": "i9iyfSlRvDjv"
      },
      "source": [
        "## Formas de Visualização"
      ]
    },
    {
      "cell_type": "code",
      "metadata": {
        "id": "MUfMQiN-ue9X"
      },
      "source": [
        "### Formas de Visualização ###\n",
        "preco['Produto']"
      ],
      "execution_count": null,
      "outputs": []
    },
    {
      "cell_type": "code",
      "metadata": {
        "id": "HyKn7UQ9uxzA"
      },
      "source": [
        "preco.Produto"
      ],
      "execution_count": null,
      "outputs": []
    },
    {
      "cell_type": "code",
      "metadata": {
        "id": "sTs89yS5uiVx"
      },
      "source": [
        "preco['Preço']"
      ],
      "execution_count": null,
      "outputs": []
    },
    {
      "cell_type": "code",
      "metadata": {
        "id": "qUksO2u5uyMV"
      },
      "source": [
        "preco.columns"
      ],
      "execution_count": null,
      "outputs": []
    },
    {
      "cell_type": "markdown",
      "metadata": {
        "id": "xpFtQHjZvzB7"
      },
      "source": [
        "## Ordenação"
      ]
    },
    {
      "cell_type": "code",
      "metadata": {
        "id": "6kT4w_ASvxMB"
      },
      "source": [
        "preco = preco.sort_values(by='Produto', ascending=True)\n",
        "preco"
      ],
      "execution_count": null,
      "outputs": []
    },
    {
      "cell_type": "code",
      "metadata": {
        "id": "QE4jYLLxwHnq"
      },
      "source": [
        "##pegar apenas os preços maiores q 3.2\n",
        "preco[preco['Preço'] > 3.2]"
      ],
      "execution_count": null,
      "outputs": []
    },
    {
      "cell_type": "code",
      "metadata": {
        "id": "8AWQbfJywR7Q"
      },
      "source": [
        "preco[preco['Custo'] > 1.2]"
      ],
      "execution_count": null,
      "outputs": []
    },
    {
      "cell_type": "code",
      "metadata": {
        "id": "YRtm-26pwXa7"
      },
      "source": [
        "## Ordena os indeces das linhas\n",
        "preco.sort_index()"
      ],
      "execution_count": null,
      "outputs": []
    },
    {
      "cell_type": "code",
      "metadata": {
        "id": "Oui53_cEweyh"
      },
      "source": [
        "# Retorna true ou false\n",
        "preco.Custo > 1.2"
      ],
      "execution_count": null,
      "outputs": []
    },
    {
      "cell_type": "code",
      "metadata": {
        "id": "0gXqFEiPwlY4"
      },
      "source": [
        "# testes lógigos. ex: Custos maiores q 1.2 e quantidades maiores q 10. Ordenando os indices das linhas\n",
        "preco[(preco['Custo'] > 1.2) & (preco.Qtde > 10)].sort_index()"
      ],
      "execution_count": null,
      "outputs": []
    },
    {
      "cell_type": "code",
      "metadata": {
        "id": "zmb8m3OTw696"
      },
      "source": [
        "# Separar linhas head pega N linhas a partir do começo\n",
        "preco.head(n=2)"
      ],
      "execution_count": null,
      "outputs": []
    },
    {
      "cell_type": "code",
      "metadata": {
        "id": "yMZgAphzxE29"
      },
      "source": [
        "# e tail do final pega N linhas\n",
        "preco.tail(n=3)"
      ],
      "execution_count": null,
      "outputs": []
    },
    {
      "cell_type": "markdown",
      "metadata": {
        "id": "BS_kTLHQxTRv"
      },
      "source": [
        "## Importar e exportar do Excel"
      ]
    },
    {
      "cell_type": "code",
      "metadata": {
        "id": "jjMiO5lixY30"
      },
      "source": [
        "dados = pd.read_excel('teste.xlsx')\n",
        "df = pd.DataFrame(dados)\n",
        "df"
      ],
      "execution_count": null,
      "outputs": []
    },
    {
      "cell_type": "code",
      "metadata": {
        "id": "kz9f19B0yApF"
      },
      "source": [
        "### separando em outro dataframe ( minerando)\n",
        "df2 = df[(df['win rate'] > 35) & (df.payout == 78)]\n",
        "df2"
      ],
      "execution_count": null,
      "outputs": []
    },
    {
      "cell_type": "code",
      "metadata": {
        "id": "6B_GFjHfyFI2"
      },
      "source": [
        "df2.sort_values(by='win rate', ascending=False)"
      ],
      "execution_count": null,
      "outputs": []
    },
    {
      "cell_type": "code",
      "metadata": {
        "id": "VbO6II2nyFCB"
      },
      "source": [
        "df2.describe()#dados estatísticos"
      ],
      "execution_count": null,
      "outputs": []
    },
    {
      "cell_type": "code",
      "metadata": {
        "id": "InBCVdbRyE6s"
      },
      "source": [
        "df2.shape# linhas e colunas da tabela"
      ],
      "execution_count": null,
      "outputs": []
    },
    {
      "cell_type": "code",
      "metadata": {
        "id": "Rg4o4ZYIyEx7"
      },
      "source": [
        "df2.rename(columns = {'win rate': 'win_rate'}, inplace=True)#renomeia  colunas\n",
        "df2"
      ],
      "execution_count": null,
      "outputs": []
    },
    {
      "cell_type": "code",
      "metadata": {
        "id": "rKoqzhDAyTSS"
      },
      "source": [
        "df2.rename(index = { 5 : 'teste'}, inplace=True)#renomeia  Linhas\n",
        "df2"
      ],
      "execution_count": null,
      "outputs": []
    },
    {
      "cell_type": "code",
      "metadata": {
        "id": "KIh3JlEJyTCP"
      },
      "source": [
        "df2.drop(index = ['teste'])#remove linha ou coluna"
      ],
      "execution_count": null,
      "outputs": []
    },
    {
      "cell_type": "code",
      "metadata": {
        "id": "WWJFruCMyS4O"
      },
      "source": [
        "df2.to_excel('vazio.xlsx')# tava vazio, agr n tá mais kkkk"
      ],
      "execution_count": 115,
      "outputs": []
    },
    {
      "cell_type": "markdown",
      "metadata": {
        "id": "R40Q-84j--yY"
      },
      "source": [
        "## Personalizando os índices(LINHAS)"
      ]
    },
    {
      "cell_type": "code",
      "metadata": {
        "id": "OejZWUsa0Zfg"
      },
      "source": [
        "df = pd.DataFrame({'Produto': ['Lápis', 'Caneta', 'Borracha', 'Grampeador', 'Apontador'],\n",
        "                      'Preço': [2.1, 7.3, 5.4, 10.9, 6],\n",
        "                      'Qtde': [10, 15, 3, 2, 20],\n",
        "                      'Custo': [0.5, 1.3, 0.7, 2, 2]})\n",
        "df"
      ],
      "execution_count": null,
      "outputs": []
    },
    {
      "cell_type": "code",
      "metadata": {
        "id": "XrrKxplz0aww"
      },
      "source": [
        "## Personalizando os índices(Linhas) ##\n",
        "for i in range(1,6):\n",
        "    df.rename(index={(i-1) : f'dia{i}'} ,inplace=True)\n",
        "''' ## OU ##\n",
        "df = pd.DataFrame({'Produto': ['Lápis', 'Caneta', 'Borracha', 'Grampeador', 'Apontador'],\n",
        "                      'Preço': [2.1, 7.3, 5.4, 10.9, 6],\n",
        "                      'Qtde': [10, 15, 3, 2, 20],\n",
        "                      'Custo': [0.5, 1.3, 0.7, 2, 2]},\n",
        "                      index=['dia1','dia2','dia3','dia4','dia5'])'''\n",
        "df"
      ],
      "execution_count": null,
      "outputs": []
    },
    {
      "cell_type": "markdown",
      "metadata": {
        "id": "RoDxUsEn_EmH"
      },
      "source": [
        "## Localizando índices(Linhas)"
      ]
    },
    {
      "cell_type": "code",
      "metadata": {
        "id": "BuW04g-x0auU"
      },
      "source": [
        "df.loc['dia2']"
      ],
      "execution_count": null,
      "outputs": []
    },
    {
      "cell_type": "code",
      "metadata": {
        "id": "0mNHJMt10arP"
      },
      "source": [
        "df.loc['dia3'].Produto"
      ],
      "execution_count": null,
      "outputs": []
    },
    {
      "cell_type": "code",
      "metadata": {
        "id": "aWPZ53LY0ao_"
      },
      "source": [
        "## encontrar o indice do produto\n",
        "df.loc[(df.Produto == 'Borracha')]"
      ],
      "execution_count": null,
      "outputs": []
    },
    {
      "cell_type": "code",
      "metadata": {
        "id": "ee9EddYs0amF"
      },
      "source": [
        "# valor do índice\n",
        "a = df.loc[(df.Produto == 'Borracha')].index\n",
        "a[0]"
      ],
      "execution_count": null,
      "outputs": []
    },
    {
      "cell_type": "code",
      "metadata": {
        "id": "fOa71zca0ajR"
      },
      "source": [
        "df.loc[(df.Produto == 'Borracha')].Preço"
      ],
      "execution_count": null,
      "outputs": []
    },
    {
      "cell_type": "code",
      "metadata": {
        "id": "xY_DXA_u0agT"
      },
      "source": [
        "df.loc[(df.Preço >= 7)].Produto"
      ],
      "execution_count": null,
      "outputs": []
    },
    {
      "cell_type": "markdown",
      "metadata": {
        "id": "DS9oPSnVCmF3"
      },
      "source": [
        "## Excluindo Linha ou Coluna"
      ]
    },
    {
      "cell_type": "code",
      "metadata": {
        "id": "rRxtag1J0aZ0"
      },
      "source": [
        "df.drop(['dia5'],axis=0) # drop linha"
      ],
      "execution_count": null,
      "outputs": []
    },
    {
      "cell_type": "code",
      "metadata": {
        "id": "svpAw21w0aVZ"
      },
      "source": [
        "df.drop(['Qtde'],axis=1) #drop coluna"
      ],
      "execution_count": null,
      "outputs": []
    },
    {
      "cell_type": "markdown",
      "metadata": {
        "id": "vWOkBHfFCPq6"
      },
      "source": [
        "## Agrupando com o Groupby"
      ]
    },
    {
      "cell_type": "code",
      "metadata": {
        "id": "t3mkMbo-0adB"
      },
      "source": [
        "df.groupby('Custo').mean()"
      ],
      "execution_count": null,
      "outputs": []
    },
    {
      "cell_type": "code",
      "metadata": {
        "id": "iDTgjHxAloa6"
      },
      "source": [
        "df = pd.read_csv('bank.csv', encoding='UTF-8', sep=';')"
      ],
      "execution_count": 186,
      "outputs": []
    },
    {
      "cell_type": "code",
      "metadata": {
        "id": "IqzPps-YloZV"
      },
      "source": [
        "df.age.mean()"
      ],
      "execution_count": null,
      "outputs": []
    },
    {
      "cell_type": "code",
      "metadata": {
        "id": "LNLzBJ3yloXw"
      },
      "source": [
        "df.age.max()"
      ],
      "execution_count": null,
      "outputs": []
    },
    {
      "cell_type": "code",
      "metadata": {
        "id": "xPGJXxucloCx"
      },
      "source": [
        "df.age.min()\n"
      ],
      "execution_count": null,
      "outputs": []
    },
    {
      "cell_type": "code",
      "metadata": {
        "id": "fZ7T7w80loBD"
      },
      "source": [
        "df[df.marital == \"married\"].age.mean()"
      ],
      "execution_count": null,
      "outputs": []
    },
    {
      "cell_type": "code",
      "metadata": {
        "id": "ABpTSi75ln_S"
      },
      "source": [
        "df[['marital','age']].groupby(['marital']).mean()# agrupa os estados civis e faz as médias das idades "
      ],
      "execution_count": null,
      "outputs": []
    },
    {
      "cell_type": "code",
      "metadata": {
        "id": "asM3_X9WlnnV"
      },
      "source": [
        "df[['marital','education','age']].groupby(['marital','education']).mean()# agrupa os estados civis e nível de educação, e faz as médias das idades "
      ],
      "execution_count": null,
      "outputs": []
    },
    {
      "cell_type": "code",
      "metadata": {
        "id": "bnnJLHX8l-Qm"
      },
      "source": [
        "colunas = ['balance', 'marital']\n",
        "df[(df.age >= 30) & (df.age <= 50) & (df.marital.isin(['married', 'divorced']))][colunas].groupby('marital').mean()\n",
        "# pega os casados e divorciados entre 30 e 50 anos, agrupando esses estados civis para calcular a média do balanço deles"
      ],
      "execution_count": null,
      "outputs": []
    },
    {
      "cell_type": "markdown",
      "metadata": {
        "id": "oPqmkrZEe_3f"
      },
      "source": [
        "## ApplyLambda e União de Dados"
      ]
    },
    {
      "cell_type": "code",
      "metadata": {
        "id": "gyVa3S1OfJLL"
      },
      "source": [
        "df = pd.read_excel('vazio.xlsx')\n",
        "df1 = pd.read_excel('teste.xlsx')\n",
        "df"
      ],
      "execution_count": null,
      "outputs": []
    },
    {
      "cell_type": "code",
      "metadata": {
        "id": "u2MwxiBCpkus"
      },
      "source": [
        "df2 = df1[df1.payout == 87]\n",
        "df2.rename(columns= {'win rate' : 'win_rate'},inplace=True)\n",
        "df2"
      ],
      "execution_count": null,
      "outputs": []
    },
    {
      "cell_type": "code",
      "metadata": {
        "id": "6bNaUN4wqfje"
      },
      "source": [
        "df3 = df1[df1.payout == 99]\n",
        "df3.rename(columns= {'win rate' : 'win_rate'},inplace=True)\n",
        "df3"
      ],
      "execution_count": null,
      "outputs": []
    },
    {
      "cell_type": "code",
      "metadata": {
        "id": "ydubFhS0pktM"
      },
      "source": [
        "for i in range(0,df2['win'].count()):\n",
        "    df2.rename(index= {df2.index[i]:i}, inplace=True)\n",
        "    df3.rename(index= {df3.index[i]:i}, inplace=True)"
      ],
      "execution_count": 204,
      "outputs": []
    },
    {
      "cell_type": "code",
      "metadata": {
        "id": "bXzOdjH1pkrh"
      },
      "source": [
        "df = df.drop(columns='Unnamed: 0')\n",
        "df"
      ],
      "execution_count": null,
      "outputs": []
    },
    {
      "cell_type": "code",
      "metadata": {
        "id": "pFwCan3tpkmS"
      },
      "source": [
        "da = df['payout'].apply(lambda x: str(x)+'%')\n",
        "da"
      ],
      "execution_count": null,
      "outputs": []
    },
    {
      "cell_type": "code",
      "metadata": {
        "id": "-XgPxIGjpkkx"
      },
      "source": [
        "db = df['RSA %'].apply(lambda x: str(x)+'%')\n",
        "db"
      ],
      "execution_count": null,
      "outputs": []
    },
    {
      "cell_type": "markdown",
      "metadata": {
        "id": "qes9t8i3tX0j"
      },
      "source": [
        "### Testes Concat"
      ]
    },
    {
      "cell_type": "code",
      "metadata": {
        "id": "d_0g_HEWpkjJ"
      },
      "source": [
        "pd.concat([df,df2], ignore_index=True)"
      ],
      "execution_count": null,
      "outputs": []
    },
    {
      "cell_type": "code",
      "metadata": {
        "id": "8S5fc3Qipkd0"
      },
      "source": [
        "pd.concat([df,df2.head(n=8)], axis=1)"
      ],
      "execution_count": null,
      "outputs": []
    },
    {
      "cell_type": "markdown",
      "metadata": {
        "id": "-lfcT-Bnt_G9"
      },
      "source": [
        "### Testes Merge"
      ]
    },
    {
      "cell_type": "code",
      "metadata": {
        "id": "ZhqgscstvJ3x"
      },
      "source": [
        "df2.head(n=8)"
      ],
      "execution_count": null,
      "outputs": []
    },
    {
      "cell_type": "code",
      "metadata": {
        "id": "AkLRVxdypkcc"
      },
      "source": [
        "mDf = pd.merge(df,df2.head(n=16), on=['N op','win','win_rate'])\n",
        "# observe que o 'n' do head nesse caso tem q ser o dobro, pq o 'n' é divido por dois, ou seja, 8 pra o df e 8 para df2\n",
        "mDf"
      ],
      "execution_count": null,
      "outputs": []
    },
    {
      "cell_type": "code",
      "metadata": {
        "id": "Myn5bzgGpkat"
      },
      "source": [
        "mDf = pd.merge(mDf,(df3.head(n=8)), on=['N op','win','win_rate'])\n",
        "# colocando o 'n' igual a 8 ele pega os 4 primeiro do df e os 4 primeiros do df2\n",
        "mDf"
      ],
      "execution_count": null,
      "outputs": []
    },
    {
      "cell_type": "markdown",
      "metadata": {
        "id": "4Mtb7XV2DPqc"
      },
      "source": [
        "## Pandas com Matplolib"
      ]
    },
    {
      "cell_type": "code",
      "metadata": {
        "id": "1sYRZ6fp0aPW"
      },
      "source": [
        "x = [1,2,3,4,5,6,7,8,9,10]\n",
        "y = [1,2,3,4,5,6,7,8,9,10]"
      ],
      "execution_count": 127,
      "outputs": []
    },
    {
      "cell_type": "code",
      "metadata": {
        "id": "ljx5Ox1P0aHN"
      },
      "source": [
        "plt.scatter(x,y)\n",
        "plt.show()"
      ],
      "execution_count": null,
      "outputs": []
    },
    {
      "cell_type": "code",
      "metadata": {
        "id": "nJsVwAVADmdm"
      },
      "source": [
        "df = pd.DataFrame({'a':[10.1,10.2,10.1,9.8,9.7,9.9,10.2,10.5,10.1,10.3]})"
      ],
      "execution_count": 129,
      "outputs": []
    },
    {
      "cell_type": "code",
      "metadata": {
        "id": "s77edtWhEFUG"
      },
      "source": [
        "df.plot.line(color='k', linewidth= 5, style='--')\n",
        "plt.show()"
      ],
      "execution_count": null,
      "outputs": []
    },
    {
      "cell_type": "code",
      "metadata": {
        "id": "jG95Ze5MEHBs"
      },
      "source": [
        "df.plot.hist(bins=5, color='y')\n",
        "plt.show()"
      ],
      "execution_count": null,
      "outputs": []
    },
    {
      "cell_type": "code",
      "metadata": {
        "id": "ucZwD8zIEHAF"
      },
      "source": [
        "x = df.a.value_counts()\n",
        "x.plot.bar(color='g')\n",
        "plt.show()"
      ],
      "execution_count": null,
      "outputs": []
    },
    {
      "cell_type": "code",
      "metadata": {
        "id": "NVqtDXpuEG-b"
      },
      "source": [
        "x.plot.pie()\n",
        "plt.show()"
      ],
      "execution_count": null,
      "outputs": []
    },
    {
      "cell_type": "code",
      "metadata": {
        "id": "6XNzBbDNEFP5"
      },
      "source": [
        "x.plot.pie(autopct='%1.2f')\n",
        "plt.show()"
      ],
      "execution_count": null,
      "outputs": []
    },
    {
      "cell_type": "code",
      "metadata": {
        "id": "mLVzs1CQEFNw"
      },
      "source": [
        "ex=(0.1,0.1,0.1,0.1,0.1,0.1,0.1)\n",
        "x.plot.pie(autopct='%1.2f', explode=ex, shadow=True)\n",
        "plt.show()"
      ],
      "execution_count": null,
      "outputs": []
    },
    {
      "cell_type": "code",
      "metadata": {
        "colab": {
          "base_uri": "https://localhost:8080/",
          "height": 265
        },
        "id": "9W0_cfRdEFKA",
        "outputId": "cdae8d5f-9510-46c8-854c-cfcf771b6bde"
      },
      "source": [
        "df = pd.DataFrame({\n",
        "   'pig': [20, 18, 489, 675, 1776],\n",
        "   'horse': [4, 25, 281, 600, 1900]\n",
        "   }, index=[1990, 1997, 2003, 2009, 2014])\n",
        "df.plot.line(style='-.')\n",
        "plt.show()"
      ],
      "execution_count": 152,
      "outputs": [
        {
          "output_type": "display_data",
          "data": {
            "image/png": "[encoded data removed]",
            "text/plain": [
              "<Figure size 432x288 with 1 Axes>"
            ]
          },
          "metadata": {
            "tags": [],
            "needs_background": "light"
          }
        }
      ]
    },
    {
      "cell_type": "code",
      "metadata": {
        "id": "98sS6VnMEFIK"
      },
      "source": [
        "s = pd.Series([1, 3, 2])\n",
        "s.plot.line()\n",
        "plt.show()"
      ],
      "execution_count": null,
      "outputs": []
    },
    {
      "cell_type": "code",
      "metadata": {
        "colab": {
          "base_uri": "https://localhost:8080/",
          "height": 272
        },
        "id": "UwxM2tooEFEZ",
        "outputId": "76eac8e5-97ae-4b73-e04e-f91b9b47fabd"
      },
      "source": [
        "axes = df.plot.line(subplots=True)\n",
        "type(axes)"
      ],
      "execution_count": 151,
      "outputs": [
        {
          "output_type": "execute_result",
          "data": {
            "text/plain": [
              "numpy.ndarray"
            ]
          },
          "metadata": {
            "tags": []
          },
          "execution_count": 151
        },
        {
          "output_type": "display_data",
          "data": {
            "image/png": "[encoded data removed]",
            "text/plain": [
              "<Figure size 432x288 with 2 Axes>"
            ]
          },
          "metadata": {
            "tags": [],
            "needs_background": "light"
          }
        }
      ]
    },
    {
      "cell_type": "markdown",
      "metadata": {
        "id": "QB4VjkZ2ZMI7"
      },
      "source": [
        "## Matplotlib"
      ]
    },
    {
      "cell_type": "code",
      "metadata": {
        "id": "asGeo4RSEFDJ"
      },
      "source": [
        "x = np.random.normal(10,4,1000)"
      ],
      "execution_count": 154,
      "outputs": []
    },
    {
      "cell_type": "code",
      "metadata": {
        "colab": {
          "base_uri": "https://localhost:8080/",
          "height": 266
        },
        "id": "SsOjzANUEE-9",
        "outputId": "6f4f73b7-e14b-4f19-95e7-5334c8a59695"
      },
      "source": [
        "plt.hist(x)\n",
        "plt.show()"
      ],
      "execution_count": 155,
      "outputs": [
        {
          "output_type": "display_data",
          "data": {
            "image/png": "[encoded data removed]",
            "text/plain": [
              "<Figure size 432x288 with 1 Axes>"
            ]
          },
          "metadata": {
            "tags": [],
            "needs_background": "light"
          }
        }
      ]
    },
    {
      "cell_type": "code",
      "metadata": {
        "id": "w2VBh3IgEE8g"
      },
      "source": [
        "a = [1,2,3]\n",
        "b = [2000.00,5000.00,10000.00]\n",
        "faixa = ['18-30', '30-60', '60-80']"
      ],
      "execution_count": 156,
      "outputs": []
    },
    {
      "cell_type": "code",
      "metadata": {
        "colab": {
          "base_uri": "https://localhost:8080/",
          "height": 295
        },
        "id": "mfbKYHMgEE5P",
        "outputId": "47ff895c-561c-4324-d366-ca4ab4bd51ee"
      },
      "source": [
        "plt.xticks(a,faixa)\n",
        "plt.title('Renda por idade')\n",
        "plt.xlabel('Faixa por idade')\n",
        "plt.ylabel('Renda mensal')\n",
        "plt.bar(a,b,align='center', color='g')\n",
        "plt.show()"
      ],
      "execution_count": 158,
      "outputs": [
        {
          "output_type": "display_data",
          "data": {
            "image/png": "[encoded data removed]",
            "text/plain": [
              "<Figure size 432x288 with 1 Axes>"
            ]
          },
          "metadata": {
            "tags": [],
            "needs_background": "light"
          }
        }
      ]
    },
    {
      "cell_type": "markdown",
      "metadata": {
        "id": "bt6kvpiuanF3"
      },
      "source": [
        "### Gráfico de linha"
      ]
    },
    {
      "cell_type": "code",
      "metadata": {
        "id": "T53uJI1IEE2a"
      },
      "source": [
        "x = [10, 15, 20, 30, 40, 50, 60]\n",
        "y = [15, 40, 75, 90, 100, 105, 115]\n",
        "\n",
        "plt.plot(x,y, linestyle='--', color='b', marker='s', linewidth=1.0)\n",
        "plt.axis([0,70,0,120])# mudar escala\n",
        "plt.show()"
      ],
      "execution_count": null,
      "outputs": []
    },
    {
      "cell_type": "markdown",
      "metadata": {
        "id": "YnKv7lGibn1P"
      },
      "source": [
        "### Gráfico de dispersão"
      ]
    },
    {
      "cell_type": "code",
      "metadata": {
        "id": "sozJ3dFEEE04"
      },
      "source": [
        "x = [10, 15, 20, 30, 40, 50, 60]\n",
        "y = [15, 25, 40, 55, 19, 45, 55]\n",
        "\n",
        "x1 = [10, 15, 20, 30, 40, 50, 60]\n",
        "y1 = [15, 40, 75, 90, 100, 105, 115]\n"
      ],
      "execution_count": 160,
      "outputs": []
    },
    {
      "cell_type": "code",
      "metadata": {
        "id": "OI6_tQ21EExG"
      },
      "source": [
        "plt.scatter(x, y)\n",
        "plt.plot(x1,y1,linestyle='--', color='black')\n",
        "plt.axis([5,75,10,120])# mudar escala\n",
        "plt.show()"
      ],
      "execution_count": null,
      "outputs": []
    },
    {
      "cell_type": "markdown",
      "metadata": {
        "id": "5oM3sdq1b7Kh"
      },
      "source": [
        "### Outros gráficos"
      ]
    },
    {
      "cell_type": "code",
      "metadata": {
        "id": "4GyKvHamEErv"
      },
      "source": [
        "np.random.seed(100)\n",
        "cols = ['Janeiro', 'Março','Maio', 'Julho','Agosto','Outubro','Novembro']\n",
        "lin = np.arange(1,32)\n",
        "dados = np.random.randint(492,2050,size=(31,7))\n",
        "df = pd.DataFrame(data=dados, index=lin, columns=cols)"
      ],
      "execution_count": 169,
      "outputs": []
    },
    {
      "cell_type": "code",
      "metadata": {
        "id": "f0lld-UiEEpo"
      },
      "source": [
        "x = df.index\n",
        "y = df['Janeiro']\n",
        "y1 = df['Outubro']"
      ],
      "execution_count": 170,
      "outputs": []
    },
    {
      "cell_type": "code",
      "metadata": {
        "colab": {
          "base_uri": "https://localhost:8080/",
          "height": 265
        },
        "id": "lpfh0ypgEEmR",
        "outputId": "aea9d4d6-1070-4251-e0ca-e5a719eff6d3"
      },
      "source": [
        "plt.plot(x,y,color='m', linestyle='--', marker='o')\n",
        "plt.plot(x,y1,'k:+')\n",
        "plt.show()"
      ],
      "execution_count": 171,
      "outputs": [
        {
          "output_type": "display_data",
          "data": {
            "image/png": "[encoded data removed]",
            "text/plain": [
              "<Figure size 432x288 with 1 Axes>"
            ]
          },
          "metadata": {
            "tags": [],
            "needs_background": "light"
          }
        }
      ]
    },
    {
      "cell_type": "code",
      "metadata": {
        "id": "75AokVOAEEjS"
      },
      "source": [
        "x = df.index\n",
        "y = df[['Janeiro','Outubro']]"
      ],
      "execution_count": 176,
      "outputs": []
    },
    {
      "cell_type": "code",
      "metadata": {
        "colab": {
          "base_uri": "https://localhost:8080/",
          "height": 265
        },
        "id": "H9-dfSNHEEgR",
        "outputId": "0ee6b838-7d18-4e7e-9fd2-16efa42bf00b"
      },
      "source": [
        "plt.plot(x,y.Janeiro,color='m', linestyle='--', marker='o')\n",
        "plt.plot(x,y.Outubro,'k:+')\n",
        "plt.show()"
      ],
      "execution_count": 177,
      "outputs": [
        {
          "output_type": "display_data",
          "data": {
            "image/png": "[encoded data removed]",
            "text/plain": [
              "<Figure size 432x288 with 1 Axes>"
            ]
          },
          "metadata": {
            "tags": [],
            "needs_background": "light"
          }
        }
      ]
    },
    {
      "cell_type": "markdown",
      "metadata": {
        "id": "Bu_VoukHeFGa"
      },
      "source": [
        "## Seaborn"
      ]
    },
    {
      "cell_type": "code",
      "metadata": {
        "id": "w-x7bMWYEEdp"
      },
      "source": [
        "df = sns.load_dataset('tips')"
      ],
      "execution_count": 228,
      "outputs": []
    },
    {
      "cell_type": "markdown",
      "metadata": {
        "id": "GbPll03dy7QD"
      },
      "source": [
        "### Gráfico de dispersão e linhas"
      ]
    },
    {
      "cell_type": "code",
      "metadata": {
        "id": "svXJ_5rFEEYG"
      },
      "source": [
        "sns.regplot(x='total_bill',y='tip',fit_reg=False,data=df)#parametro fit_reg=False retira a linha de regressão\n",
        "plt.show()# sem esse plt.show ele mostra o tipo do gráfico, q vem da biblioteca do matplotlib."
      ],
      "execution_count": null,
      "outputs": []
    },
    {
      "cell_type": "code",
      "metadata": {
        "id": "g_92s7020ozR"
      },
      "source": [
        "sns.set_palette('pastel')\n",
        "sns.regplot(x='total_bill', y='tip', data=df)"
      ],
      "execution_count": null,
      "outputs": []
    },
    {
      "cell_type": "markdown",
      "metadata": {
        "id": "U9fm60PtzDU7"
      },
      "source": [
        "### Gráfico de dispersão"
      ]
    },
    {
      "cell_type": "code",
      "metadata": {
        "id": "1NaYsPgLEEVc"
      },
      "source": [
        "sns.scatterplot(x='total_bill',y='tip', hue='smoker', data=df)"
      ],
      "execution_count": null,
      "outputs": []
    },
    {
      "cell_type": "code",
      "metadata": {
        "id": "8VymRGm4zLec"
      },
      "source": [
        "sns.scatterplot(x='total_bill',y='tip',hue='sex',style='smoker',data=df)"
      ],
      "execution_count": null,
      "outputs": []
    },
    {
      "cell_type": "code",
      "metadata": {
        "id": "6Yo_XSFdzLdB"
      },
      "source": [
        "sns.scatterplot(x='total_bill',y='tip', hue='size', data=df)"
      ],
      "execution_count": null,
      "outputs": []
    },
    {
      "cell_type": "code",
      "metadata": {
        "id": "I1Bwby_bzLbU"
      },
      "source": [
        "sns.scatterplot(x='total_bill',y='tip', size='size', data=df)"
      ],
      "execution_count": null,
      "outputs": []
    },
    {
      "cell_type": "code",
      "metadata": {
        "id": "SDQUA6zuzLT4"
      },
      "source": [
        "sns.scatterplot(x='total_bill',y='tip', size='size',sizes=(15,300), data=df)"
      ],
      "execution_count": null,
      "outputs": []
    },
    {
      "cell_type": "code",
      "metadata": {
        "id": "lB3-ajMRzLSX"
      },
      "source": [
        "f, ax = plt.subplots(figsize=(12,5))\n",
        "sns.scatterplot(x='total_bill',y='tip', hue='day', style='time',data=df)"
      ],
      "execution_count": null,
      "outputs": []
    },
    {
      "cell_type": "code",
      "metadata": {
        "id": "eG_7jOHgzLQt"
      },
      "source": [
        "sns.scatterplot(x='total_bill',y='tip', hue='day', style='time',data=df)"
      ],
      "execution_count": null,
      "outputs": []
    },
    {
      "cell_type": "code",
      "metadata": {
        "id": "Bzpo79t0zLJZ"
      },
      "source": [
        "#paleta para dados quantitativos\n",
        "sns.scatterplot(x='total_bill',y='tip', hue='size',sizes=(12,250),size='size', palette='Blues', data=df)"
      ],
      "execution_count": null,
      "outputs": []
    },
    {
      "cell_type": "code",
      "metadata": {
        "id": "BjnAUo9F0tfD"
      },
      "source": [
        "with sns.color_palette('Accent'):#executa a configuração da paleta apenas em quem está dentro da função with\n",
        "    sns.scatterplot(x='total_bill',y='tip',data=df, size='size', sizes=(12,250))"
      ],
      "execution_count": null,
      "outputs": []
    },
    {
      "cell_type": "markdown",
      "metadata": {
        "id": "6xXs0RIFz9N4"
      },
      "source": [
        "### Gráficos de Barras"
      ]
    },
    {
      "cell_type": "code",
      "metadata": {
        "id": "D69BjXmvzLH-"
      },
      "source": [
        "#paleta para dados qualitativos\n",
        "# Kind= count gráfico de barra normal\n",
        "sns.catplot(x='sex',kind='count', palette='Set2', data=df)"
      ],
      "execution_count": null,
      "outputs": []
    },
    {
      "cell_type": "code",
      "metadata": {
        "id": "kB6zYc2EzLGN"
      },
      "source": [
        "sns.catplot(y='day',kind='count', palette='Set1', data=df)"
      ],
      "execution_count": null,
      "outputs": []
    },
    {
      "cell_type": "code",
      "metadata": {
        "id": "3p9x4kQvzK87"
      },
      "source": [
        "sns.catplot(x='day',y='total_bill', palette='Set2', data=df)"
      ],
      "execution_count": null,
      "outputs": []
    },
    {
      "cell_type": "code",
      "metadata": {
        "id": "AG8YkSnIzK7b"
      },
      "source": [
        "sns.catplot(x='day',y='total_bill', kind='swarm', data=df)"
      ],
      "execution_count": null,
      "outputs": []
    },
    {
      "cell_type": "code",
      "metadata": {
        "id": "eP9Xske-zK5v"
      },
      "source": [
        "sns.catplot(x='day', y='total_bill', kind='swarm', hue='sex', palette='Dark2', data=df)"
      ],
      "execution_count": null,
      "outputs": []
    },
    {
      "cell_type": "markdown",
      "metadata": {
        "id": "IPQHgoA60iLp"
      },
      "source": [
        "### Heatmap"
      ]
    },
    {
      "cell_type": "code",
      "metadata": {
        "id": "br8yelQ20cD2"
      },
      "source": [
        "#paleta para dados divergentes(correlação)\n",
        "sns.heatmap(df.corr(), annot=True, cmap='PiYG')"
      ],
      "execution_count": null,
      "outputs": []
    },
    {
      "cell_type": "markdown",
      "metadata": {
        "id": "VEaK_BpU06VZ"
      },
      "source": [
        "### Gráficos com Regressão"
      ]
    },
    {
      "cell_type": "code",
      "metadata": {
        "id": "etaem_KR0cAB"
      },
      "source": [
        "sns.lmplot(x='total_bill', y='tip', hue='sex', palette='Pastel1', data=df)"
      ],
      "execution_count": null,
      "outputs": []
    },
    {
      "cell_type": "code",
      "metadata": {
        "id": "1ayUk1aL0bhA"
      },
      "source": [
        "sns.lmplot(x='total_bill', y='tip', hue='smoker', col='time', palette='Set2', data=df)\n",
        "# o parametro col separa em gráficos de acordo com o número de variáveis dentro da coluna time"
      ],
      "execution_count": null,
      "outputs": []
    },
    {
      "cell_type": "code",
      "metadata": {
        "id": "mGg33RTs0bfe"
      },
      "source": [
        "sns.lmplot(x='total_bill', y='tip', hue='smoker', col='time', palette='Set1',line_kws={'lw': 4}, scatter_kws={'s':90,'alpha':0.5}, data=df)"
      ],
      "execution_count": null,
      "outputs": []
    },
    {
      "cell_type": "markdown",
      "metadata": {
        "id": "KNQMA1w13LTS"
      },
      "source": [
        "### Visualizando Outliers (Boxplot)"
      ]
    },
    {
      "cell_type": "code",
      "metadata": {
        "id": "9r2FRert0bdw"
      },
      "source": [
        "sns.catplot(x='day', y='total_bill', kind='box', data=df)"
      ],
      "execution_count": null,
      "outputs": []
    },
    {
      "cell_type": "code",
      "metadata": {
        "id": "O2iSyPvu0bW7"
      },
      "source": [
        "sns.catplot(x='day', y='total_bill', kind='box', hue='smoker',data=df)\n"
      ],
      "execution_count": null,
      "outputs": []
    },
    {
      "cell_type": "code",
      "metadata": {
        "id": "4pVBu2ab0bVf"
      },
      "source": [
        "sns.catplot(x='day', y='total_bill', kind='boxen', data=df)"
      ],
      "execution_count": null,
      "outputs": []
    },
    {
      "cell_type": "code",
      "metadata": {
        "id": "EnVa0LOX0bNF"
      },
      "source": [
        "#combinando gráficos\n",
        "sns.stripplot(x='day', y='total_bill', color='blue', data=df)"
      ],
      "execution_count": null,
      "outputs": []
    },
    {
      "cell_type": "code",
      "metadata": {
        "id": "mHOVBEcb0bT0"
      },
      "source": [
        "sns.catplot(x='sex', y='total_bill', hue='smoker', col='time', height=4, kind='boxen', data=df)"
      ],
      "execution_count": null,
      "outputs": []
    },
    {
      "cell_type": "markdown",
      "metadata": {
        "id": "EI3vla8O2hyA"
      },
      "source": [
        "### Gráficos de Correlação"
      ]
    },
    {
      "cell_type": "code",
      "metadata": {
        "id": "5h9x2swL0bLg"
      },
      "source": [
        "correlacoes = df.corr()\n",
        "correlacoes"
      ],
      "execution_count": null,
      "outputs": []
    },
    {
      "cell_type": "code",
      "metadata": {
        "id": "3nUlgE1_0cCJ",
        "colab": {
          "base_uri": "https://localhost:8080/",
          "height": 270
        },
        "outputId": "3856ddad-6344-4fbd-8793-f66412230d27"
      },
      "source": [
        "ax = sns.heatmap(correlacoes, annot=True)#correlações na última sessão"
      ],
      "execution_count": 265,
      "outputs": [
        {
          "output_type": "display_data",
          "data": {
            "image/png": "[encoded data removed]",
            "text/plain": [
              "<Figure size 432x288 with 2 Axes>"
            ]
          },
          "metadata": {
            "tags": [],
            "needs_background": "light"
          }
        }
      ]
    }
  ]
}
